{
 "cells": [
  {
   "cell_type": "code",
   "execution_count": 1,
   "metadata": {},
   "outputs": [],
   "source": [
    "import json\n",
    "import os\n",
    "import sys\n",
    "from pathlib import Path\n",
    "from pprint import pprint\n",
    "from urllib.parse import urljoin\n",
    "\n",
    "import arrow\n",
    "import business_api_client\n",
    "import pandas as pd\n",
    "import pyspark\n",
    "import requests\n",
    "from business_api_client import ReportingApi\n",
    "from business_api_client.rest import ApiException\n",
    "from dotenv import load_dotenv\n",
    "from google.cloud import bigquery\n",
    "from google.oauth2 import service_account\n",
    "from icecream import ic\n",
    "from loguru import logger\n",
    "from pyspark.sql import SparkSession\n",
    "from pyspark.sql import functions as F\n",
    "from pyspark.sql import types as T\n",
    "\n",
    "load_dotenv()\n",
    "\n",
    "ROOT_DIR = Path.cwd().parent.absolute()"
   ]
  },
  {
   "cell_type": "code",
   "execution_count": 2,
   "metadata": {},
   "outputs": [
    {
     "name": "stderr",
     "output_type": "stream",
     "text": [
      "24/07/17 22:15:50 WARN Utils: Your hostname, avalon resolves to a loopback address: 127.0.1.1; using 192.168.18.2 instead (on interface eth0)\n",
      "24/07/17 22:15:50 WARN Utils: Set SPARK_LOCAL_IP if you need to bind to another address\n",
      "Setting default log level to \"WARN\".\n",
      "To adjust logging level use sc.setLogLevel(newLevel). For SparkR, use setLogLevel(newLevel).\n",
      "24/07/17 22:15:51 WARN NativeCodeLoader: Unable to load native-hadoop library for your platform... using builtin-java classes where applicable\n"
     ]
    }
   ],
   "source": [
    "spark = SparkSession.builder.master(\"local[*]\").appName(\"test\").getOrCreate()"
   ]
  },
  {
   "cell_type": "code",
   "execution_count": 3,
   "metadata": {},
   "outputs": [],
   "source": [
    "auth_code = os.getenv(\"TIKTOK_AUTH_CODE\")\n",
    "app_id = os.getenv(\"TIKTOK_APP_ID\")\n",
    "secret = os.getenv(\"TIKTOK_SECRET\")\n",
    "access_token = os.getenv(\"TIKTOK_ACCESS_TOKEN\")\n",
    "\n",
    "start_date = arrow.now().floor(\"year\")\n",
    "end_date = start_date.shift(months=+5)"
   ]
  },
  {
   "cell_type": "code",
   "execution_count": 4,
   "metadata": {},
   "outputs": [],
   "source": [
    "def assert_tiktok_api_response(api_response):\n",
    "    assert isinstance(api_response, dict)\n",
    "    assert \"data\" in api_response\n",
    "    assert isinstance(api_response[\"data\"], dict)\n",
    "    assert \"list\" in api_response[\"data\"]\n",
    "\n",
    "\n",
    "def get_advertisers(app_id, secret, access_token) -> pd.DataFrame:\n",
    "    # create an instance of the API class\n",
    "    auth_api = business_api_client.AuthenticationApi()\n",
    "    try:\n",
    "        # Obtain a list of advertiser accounts that authorized an app. [Advertiser Get](https://ads.tiktok.com/marketing_api/docs?id=1738455508553729)\n",
    "        api_response = auth_api.oauth2_advertiser_get(app_id, secret, access_token)\n",
    "        assert_tiktok_api_response(api_response)\n",
    "        advertisers = pd.DataFrame(api_response[\"data\"][\"list\"])\n",
    "        return advertisers\n",
    "    except ApiException as e:\n",
    "        logger.error(\n",
    "            f\"Exception when calling AuthenticationApi->oauth2_advertiser_get: {e}\"\n",
    "        )\n",
    "\n",
    "\n",
    "def get_report_campaign(advertiser_id, start_date, end_date) -> pd.DataFrame:\n",
    "    api_instance = business_api_client.ReportingApi()\n",
    "    report_type = \"BASIC\"\n",
    "    dimensions = [\"stat_time_day\", \"campaign_id\"]\n",
    "    service_type = \"AUCTION\"\n",
    "    data_level = \"AUCTION_CAMPAIGN\"\n",
    "    metrics = [\n",
    "        \"advertiser_id\",\n",
    "        \"advertiser_name\",\n",
    "        \"campaign_name\",\n",
    "        \"objective_type\",\n",
    "        \"reach\",\n",
    "        \"impressions\",\n",
    "        \"clicks\",\n",
    "        \"video_play_actions\",\n",
    "        \"result\",\n",
    "        \"checkout\",\n",
    "        \"spend\",\n",
    "        \"ctr\",\n",
    "        \"cpc\",\n",
    "        \"cost_per_result\",\n",
    "    ]\n",
    "    order_field = \"campaign_name\"\n",
    "    order_type = \"ASC\"\n",
    "    page = 1\n",
    "    page_size = 1000\n",
    "    query_mode = \"REGULAR\"\n",
    "\n",
    "    try:\n",
    "        # Create a synchronous report task.  This endpoint can currently return the reporting data of up to 10,000 advertisements. If your number of advertisements exceeds 10,000, please use campaign_ids / adgroup_ids / ad_ids as a filter to obtain the reporting data of all advertisements in batches. Additionally, with CHUNK mode on, up to 20,000 advertisements can be returned. If you use campaign_ids / adgroup_ids / ad_ids as a filter, you can pass in up to 100 IDs at a time. [Reporting Get](https://ads.tiktok.com/marketing_api/docs?id=1740302848100353)\n",
    "        api_response = api_instance.report_integrated_get(\n",
    "            advertiser_id,\n",
    "            report_type,\n",
    "            dimensions,\n",
    "            access_token,\n",
    "            service_type=service_type,\n",
    "            data_level=data_level,\n",
    "            metrics=metrics,\n",
    "            order_field=order_field,\n",
    "            order_type=order_type,\n",
    "            start_date=start_date,\n",
    "            end_date=end_date,\n",
    "            page=page,\n",
    "            page_size=page_size,\n",
    "            query_mode=query_mode,\n",
    "        )\n",
    "    except ApiException as e:\n",
    "        logger.error(f\"Exception when calling ReportingApi->report_integrated_get: {e}\")\n",
    "    else:\n",
    "        assert_tiktok_api_response(api_response)\n",
    "        if api_response[\"data\"][\"page_info\"][\"total_number\"] < 1:\n",
    "            return pd.DataFrame()\n",
    "        if api_response[\"data\"][\"page_info\"][\"total_page\"] > 1:\n",
    "            logger.warning(\n",
    "                f\"There are more than one page for advertiser_id {advertiser_id}\"\n",
    "            )\n",
    "        df = pd.DataFrame(api_response[\"data\"][\"list\"])\n",
    "        df = pd.concat(\n",
    "            [\n",
    "                df[\"dimensions\"].apply(pd.Series),\n",
    "                df[\"metrics\"].apply(pd.Series),\n",
    "            ],\n",
    "            axis=1,\n",
    "        )\n",
    "        df = df[dimensions + metrics]\n",
    "        df[\"stat_time_day\"] = pd.to_datetime(df[\"stat_time_day\"])\n",
    "        df[metrics[4:]] = df[metrics[4:]].apply(pd.to_numeric, errors=\"coerce\")\n",
    "        df = df[df[\"impressions\"] > 0].reset_index(drop=True)\n",
    "    return df"
   ]
  },
  {
   "cell_type": "code",
   "execution_count": 5,
   "metadata": {},
   "outputs": [],
   "source": [
    "advertisers = get_advertisers(app_id, secret, access_token)\n",
    "campaign_reports = []\n",
    "for date_start, date_end in arrow.Arrow.interval(\n",
    "    \"months\", start_date.naive, end_date.naive\n",
    "):\n",
    "    for ads_id in advertisers[\"advertiser_id\"]:\n",
    "        try:\n",
    "            df_report = get_report_campaign(\n",
    "                ads_id,\n",
    "                date_start.format(\"YYYY-MM-DD\"),\n",
    "                date_end.format(\"YYYY-MM-DD\"),\n",
    "            )\n",
    "            campaign_reports.append(df_report)\n",
    "        except KeyError:\n",
    "            print(ads_id)\n",
    "\n",
    "df_report = pd.concat(campaign_reports, axis=0)\n",
    "\n",
    "df_report = spark.createDataFrame(df_report)\n",
    "df_report = df_report.withColumn(\n",
    "    \"stat_time_day\", df_report.stat_time_day.cast(T.DateType())\n",
    ")"
   ]
  },
  {
   "cell_type": "code",
   "execution_count": 8,
   "metadata": {},
   "outputs": [
    {
     "name": "stderr",
     "output_type": "stream",
     "text": [
      "                                                                                \r"
     ]
    }
   ],
   "source": [
    "df_report.repartition(1).write.parquet(\n",
    "    str(ROOT_DIR / \"out/test_tiktok.parquet\"), mode=\"overwrite\"\n",
    ")"
   ]
  },
  {
   "cell_type": "code",
   "execution_count": 9,
   "metadata": {},
   "outputs": [],
   "source": [
    "df_report = df_report.withColumn(\n",
    "    \"stat_time_day\", df_report.stat_time_day.cast(T.DateType())\n",
    ")"
   ]
  }
 ],
 "metadata": {
  "kernelspec": {
   "display_name": ".venv",
   "language": "python",
   "name": "python3"
  },
  "language_info": {
   "codemirror_mode": {
    "name": "ipython",
    "version": 3
   },
   "file_extension": ".py",
   "mimetype": "text/x-python",
   "name": "python",
   "nbconvert_exporter": "python",
   "pygments_lexer": "ipython3",
   "version": "3.11.2"
  }
 },
 "nbformat": 4,
 "nbformat_minor": 2
}
