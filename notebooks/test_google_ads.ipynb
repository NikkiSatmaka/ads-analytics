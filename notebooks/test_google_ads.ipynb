{
 "cells": [
  {
   "cell_type": "code",
   "execution_count": 1,
   "metadata": {},
   "outputs": [],
   "source": [
    "import os\n",
    "import sys\n",
    "from pathlib import Path\n",
    "\n",
    "from dotenv import load_dotenv\n",
    "from google.ads.googleads.client import GoogleAdsClient\n",
    "from google.ads.googleads.errors import GoogleAdsException\n",
    "\n",
    "load_dotenv()\n",
    "\n",
    "ROOT_DIR = Path.cwd().parent.absolute()"
   ]
  },
  {
   "cell_type": "code",
   "execution_count": 2,
   "metadata": {},
   "outputs": [],
   "source": [
    "client = GoogleAdsClient.load_from_storage()\n",
    "ga_service = client.get_service(\"GoogleAdsService\", version=\"v17\")\n",
    "customer_id = os.getenv(\"GOOGLE_ADS_LOGIN_CUSTOMER_ID\")"
   ]
  },
  {
   "cell_type": "code",
   "execution_count": null,
   "metadata": {},
   "outputs": [],
   "source": [
    "query = \"\"\"\n",
    "    SELECT *\n",
    "    FROM campaign\n",
    "    ORDER BY campaign.id\n",
    "\"\"\"\n",
    "\n",
    "# Issues a search request using streaming.\n",
    "stream = ga_service.search_stream(customer_id=customer_id, query=query)\n",
    "\n",
    "for batch in stream:\n",
    "    for row in batch.results:\n",
    "        print(\n",
    "            f\"Campaign with ID {row.campaign.id} and name \"\n",
    "            f\"{row.campaign.name} was found.\"\n",
    "        )\n",
    "        print(row)\n",
    "        break"
   ]
  }
 ],
 "metadata": {
  "kernelspec": {
   "display_name": ".venv",
   "language": "python",
   "name": "python3"
  },
  "language_info": {
   "codemirror_mode": {
    "name": "ipython",
    "version": 3
   },
   "file_extension": ".py",
   "mimetype": "text/x-python",
   "name": "python",
   "nbconvert_exporter": "python",
   "pygments_lexer": "ipython3",
   "version": "3.11.2"
  }
 },
 "nbformat": 4,
 "nbformat_minor": 2
}
