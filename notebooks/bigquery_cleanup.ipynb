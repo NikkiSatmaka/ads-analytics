{
 "cells": [
  {
   "cell_type": "code",
   "execution_count": 1,
   "metadata": {},
   "outputs": [],
   "source": [
    "import os\n",
    "from pathlib import Path\n",
    "\n",
    "from dotenv import load_dotenv\n",
    "from google.cloud import bigquery\n",
    "\n",
    "load_dotenv()\n",
    "\n",
    "ROOT_DIR = Path.cwd().parent.absolute()"
   ]
  },
  {
   "cell_type": "code",
   "execution_count": 2,
   "metadata": {},
   "outputs": [],
   "source": [
    "def list_tables(project_id, dataset_id):\n",
    "    client = bigquery.Client(project=project_id)\n",
    "    dataset_ref = client.dataset(dataset_id)\n",
    "\n",
    "    tables = client.list_tables(dataset_ref)  # API request\n",
    "\n",
    "    if tables:\n",
    "        print(f\"Tables in dataset {dataset_id}:\")\n",
    "        for table in tables:\n",
    "            print(f\"\\t{table.table_id}\")\n",
    "    else:\n",
    "        print(f\"No tables found in dataset {dataset_id}.\")\n",
    "\n",
    "\n",
    "def delete_table(project_id, dataset_id, table_id):\n",
    "    client = bigquery.Client(project=project_id)\n",
    "    table_ref = client.dataset(dataset_id).table(table_id)\n",
    "\n",
    "    try:\n",
    "        client.delete_table(table_ref)  # API request\n",
    "        print(f\"Deleted table '{table_id}' from dataset '{dataset_id}'.\")\n",
    "    except Exception as e:\n",
    "        print(f\"Failed to delete table '{table_id}': {e}\")"
   ]
  },
  {
   "cell_type": "code",
   "execution_count": 3,
   "metadata": {},
   "outputs": [],
   "source": [
    "# Example usage\n",
    "project_id = os.getenv(\"BIGQUERY_PROJECT_ID\")\n",
    "dataset_id = os.getenv(\"BIGQUERY_DATASET_ID\")"
   ]
  },
  {
   "cell_type": "code",
   "execution_count": 4,
   "metadata": {},
   "outputs": [],
   "source": [
    "client = bigquery.Client(project=project_id)\n",
    "dataset_ref = client.dataset(dataset_id)\n",
    "\n",
    "tables = client.list_tables(dataset_ref)  # API request"
   ]
  },
  {
   "cell_type": "code",
   "execution_count": 5,
   "metadata": {},
   "outputs": [],
   "source": [
    "for table in tables:\n",
    "    if \"ads_campaign\" in table.table_id.lower() or \"tiktok\" in table.table_id.lower():\n",
    "        continue\n",
    "    print(table.table_id)\n",
    "    # delete_table(project_id, dataset_id, table.table_id)"
   ]
  },
  {
   "cell_type": "code",
   "execution_count": null,
   "metadata": {},
   "outputs": [],
   "source": []
  }
 ],
 "metadata": {
  "kernelspec": {
   "display_name": ".venv",
   "language": "python",
   "name": "python3"
  },
  "language_info": {
   "codemirror_mode": {
    "name": "ipython",
    "version": 3
   },
   "file_extension": ".py",
   "mimetype": "text/x-python",
   "name": "python",
   "nbconvert_exporter": "python",
   "pygments_lexer": "ipython3",
   "version": "3.11.2"
  }
 },
 "nbformat": 4,
 "nbformat_minor": 2
}
